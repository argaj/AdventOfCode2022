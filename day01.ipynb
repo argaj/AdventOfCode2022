{
 "cells": [
  {
   "cell_type": "code",
   "execution_count": 6,
   "id": "f53f1641",
   "metadata": {},
   "outputs": [],
   "source": [
    "data = open('day01.txt', 'r').readlines()"
   ]
  },
  {
   "cell_type": "code",
   "execution_count": 12,
   "id": "d123cb59",
   "metadata": {},
   "outputs": [],
   "source": [
    "i = []"
   ]
  },
  {
   "cell_type": "code",
   "execution_count": 13,
   "id": "c5aa74a9",
   "metadata": {},
   "outputs": [],
   "source": [
    "s = 0\n",
    "for d in data:\n",
    "    try:\n",
    "        s += int(d)\n",
    "    except ValueError:\n",
    "        i.append(s)\n",
    "        s = 0"
   ]
  },
  {
   "cell_type": "code",
   "execution_count": 15,
   "id": "b560de70",
   "metadata": {},
   "outputs": [
    {
     "data": {
      "text/plain": [
       "69501"
      ]
     },
     "execution_count": 15,
     "metadata": {},
     "output_type": "execute_result"
    }
   ],
   "source": [
    "max(i)"
   ]
  },
  {
   "cell_type": "code",
   "execution_count": 16,
   "id": "39ca7f4a",
   "metadata": {},
   "outputs": [],
   "source": [
    "import numpy as np"
   ]
  },
  {
   "cell_type": "code",
   "execution_count": 17,
   "id": "289ffd65",
   "metadata": {},
   "outputs": [],
   "source": [
    "arr = np.array(i)"
   ]
  },
  {
   "cell_type": "code",
   "execution_count": 25,
   "id": "68acad97",
   "metadata": {},
   "outputs": [
    {
     "data": {
      "text/plain": [
       "202346"
      ]
     },
     "execution_count": 25,
     "metadata": {},
     "output_type": "execute_result"
    }
   ],
   "source": [
    "sum(arr[np.argsort(i)][-3:])"
   ]
  },
  {
   "cell_type": "code",
   "execution_count": null,
   "id": "ce9eb714",
   "metadata": {},
   "outputs": [],
   "source": []
  }
 ],
 "metadata": {
  "kernelspec": {
   "display_name": "Python 3 (ipykernel)",
   "language": "python",
   "name": "python3"
  },
  "language_info": {
   "codemirror_mode": {
    "name": "ipython",
    "version": 3
   },
   "file_extension": ".py",
   "mimetype": "text/x-python",
   "name": "python",
   "nbconvert_exporter": "python",
   "pygments_lexer": "ipython3",
   "version": "3.8.10"
  }
 },
 "nbformat": 4,
 "nbformat_minor": 5
}
