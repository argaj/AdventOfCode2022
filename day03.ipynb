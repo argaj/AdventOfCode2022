{
 "cells": [
  {
   "cell_type": "code",
   "execution_count": 1,
   "id": "70b59074",
   "metadata": {},
   "outputs": [],
   "source": [
    "def load(filename, data_type=None):\n",
    "    with open(filename, 'r') as f:\n",
    "        data = [line.rstrip('\\n') for line in f]\n",
    "    if data_type:\n",
    "        return [data_type(x) for x in data]\n",
    "    return data"
   ]
  },
  {
   "cell_type": "code",
   "execution_count": 2,
   "id": "6e2fa391",
   "metadata": {},
   "outputs": [],
   "source": [
    "data = load('day03.txt')"
   ]
  },
  {
   "cell_type": "code",
   "execution_count": 13,
   "id": "264a92d4",
   "metadata": {},
   "outputs": [],
   "source": [
    "from collections import Counter"
   ]
  },
  {
   "cell_type": "code",
   "execution_count": 31,
   "id": "de61a72a",
   "metadata": {},
   "outputs": [],
   "source": [
    "s = 0\n",
    "for i, d in enumerate(data):\n",
    "    l = set(data[i][:len(data[i])//2]).intersection(set(data[i][len(data[i])//2:])).pop()\n",
    "    if l.islower():\n",
    "        s += ord(l) - 96\n",
    "    else:\n",
    "        s += ord(l) - 38"
   ]
  },
  {
   "cell_type": "code",
   "execution_count": 32,
   "id": "83d79e4b",
   "metadata": {},
   "outputs": [
    {
     "data": {
      "text/plain": [
       "7889"
      ]
     },
     "execution_count": 32,
     "metadata": {},
     "output_type": "execute_result"
    }
   ],
   "source": [
    "s"
   ]
  },
  {
   "cell_type": "code",
   "execution_count": 8,
   "id": "f69ecde0",
   "metadata": {},
   "outputs": [
    {
     "data": {
      "text/plain": [
       "26"
      ]
     },
     "execution_count": 8,
     "metadata": {},
     "output_type": "execute_result"
    }
   ],
   "source": [
    "ord('z') - 96"
   ]
  },
  {
   "cell_type": "code",
   "execution_count": 29,
   "id": "8e8da235",
   "metadata": {},
   "outputs": [
    {
     "data": {
      "text/plain": [
       "25"
      ]
     },
     "execution_count": 29,
     "metadata": {},
     "output_type": "execute_result"
    }
   ],
   "source": [
    "ord('A') - 40"
   ]
  },
  {
   "cell_type": "code",
   "execution_count": 37,
   "id": "530e60d5",
   "metadata": {},
   "outputs": [],
   "source": [
    "s = 0\n",
    "for i in range(0, len(data), 3):\n",
    "    a = set(data[i])\n",
    "    b = set(data[i+1])\n",
    "    c = set(data[i+2])\n",
    "    l = a.intersection(b).intersection(c).pop()\n",
    "    if l.islower():\n",
    "        s += ord(l) - 96\n",
    "    else:\n",
    "        s += ord(l) - 38"
   ]
  },
  {
   "cell_type": "code",
   "execution_count": 38,
   "id": "dee0ba8f",
   "metadata": {},
   "outputs": [
    {
     "data": {
      "text/plain": [
       "2825"
      ]
     },
     "execution_count": 38,
     "metadata": {},
     "output_type": "execute_result"
    }
   ],
   "source": [
    "s"
   ]
  },
  {
   "cell_type": "code",
   "execution_count": null,
   "id": "d81eb3c3",
   "metadata": {},
   "outputs": [],
   "source": []
  }
 ],
 "metadata": {
  "kernelspec": {
   "display_name": "Python 3 (ipykernel)",
   "language": "python",
   "name": "python3"
  },
  "language_info": {
   "codemirror_mode": {
    "name": "ipython",
    "version": 3
   },
   "file_extension": ".py",
   "mimetype": "text/x-python",
   "name": "python",
   "nbconvert_exporter": "python",
   "pygments_lexer": "ipython3",
   "version": "3.8.10"
  }
 },
 "nbformat": 4,
 "nbformat_minor": 5
}
