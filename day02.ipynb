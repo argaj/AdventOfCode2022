{
 "cells": [
  {
   "cell_type": "code",
   "execution_count": 2,
   "id": "64bd2ac7",
   "metadata": {},
   "outputs": [],
   "source": [
    "def load(filename, data_type=None):\n",
    "    with open(filename, 'r') as f:\n",
    "        data = [line.rstrip('\\n') for line in f]\n",
    "    if data_type:\n",
    "        return [data_type(x) for x in data]\n",
    "    return data"
   ]
  },
  {
   "cell_type": "code",
   "execution_count": 31,
   "id": "78aad722",
   "metadata": {},
   "outputs": [],
   "source": [
    "data = load('input.txt')"
   ]
  },
  {
   "cell_type": "code",
   "execution_count": 32,
   "id": "1715c734",
   "metadata": {},
   "outputs": [],
   "source": [
    "data = [i.split() for i in data]"
   ]
  },
  {
   "cell_type": "code",
   "execution_count": 34,
   "id": "8ee233b6",
   "metadata": {},
   "outputs": [],
   "source": [
    "def calc(i):\n",
    "    if i[0] == 'A':\n",
    "        if i[1] == 'X':\n",
    "            return 4\n",
    "        elif i[1] == 'Y':\n",
    "            return 8\n",
    "        elif i[1] == 'Z':\n",
    "            return 3\n",
    "    elif i[0] == 'B':\n",
    "        if i[1] == 'X':\n",
    "            return 1\n",
    "        elif i[1] == 'Y':\n",
    "            return 5\n",
    "        elif i[1] == 'Z':\n",
    "            return 9\n",
    "    elif i[0] == 'C':\n",
    "        if i[1] == 'X':\n",
    "            return 7\n",
    "        elif i[1] == 'Y':\n",
    "            return 2\n",
    "        elif i[1] == 'Z':\n",
    "            return 6"
   ]
  },
  {
   "cell_type": "code",
   "execution_count": 35,
   "id": "e290cc32",
   "metadata": {},
   "outputs": [
    {
     "data": {
      "text/plain": [
       "13268"
      ]
     },
     "execution_count": 35,
     "metadata": {},
     "output_type": "execute_result"
    }
   ],
   "source": [
    "sum([calc(i) for i in data])"
   ]
  },
  {
   "cell_type": "code",
   "execution_count": 36,
   "id": "535b348b",
   "metadata": {},
   "outputs": [],
   "source": [
    "def calc(i):\n",
    "    if i[0] == 'A':\n",
    "        if i[1] == 'X':\n",
    "            return 0 + 3\n",
    "        elif i[1] == 'Y':\n",
    "            return 3 + 1\n",
    "        elif i[1] == 'Z':\n",
    "            return 6 + 2\n",
    "    elif i[0] == 'B':\n",
    "        if i[1] == 'X':\n",
    "            return 0 + 1\n",
    "        elif i[1] == 'Y':\n",
    "            return 3 + 2\n",
    "        elif i[1] == 'Z':\n",
    "            return 6 + 3\n",
    "    elif i[0] == 'C':\n",
    "        if i[1] == 'X':\n",
    "            return 0 + 2\n",
    "        elif i[1] == 'Y':\n",
    "            return 3 + 3\n",
    "        elif i[1] == 'Z':\n",
    "            return 6 + 1"
   ]
  },
  {
   "cell_type": "code",
   "execution_count": 37,
   "id": "6820c038",
   "metadata": {},
   "outputs": [
    {
     "data": {
      "text/plain": [
       "15508"
      ]
     },
     "execution_count": 37,
     "metadata": {},
     "output_type": "execute_result"
    }
   ],
   "source": [
    "sum([calc(i) for i in data])"
   ]
  },
  {
   "cell_type": "code",
   "execution_count": null,
   "id": "30d58d69",
   "metadata": {},
   "outputs": [],
   "source": []
  }
 ],
 "metadata": {
  "kernelspec": {
   "display_name": "Python 3 (ipykernel)",
   "language": "python",
   "name": "python3"
  },
  "language_info": {
   "codemirror_mode": {
    "name": "ipython",
    "version": 3
   },
   "file_extension": ".py",
   "mimetype": "text/x-python",
   "name": "python",
   "nbconvert_exporter": "python",
   "pygments_lexer": "ipython3",
   "version": "3.8.10"
  }
 },
 "nbformat": 4,
 "nbformat_minor": 5
}
