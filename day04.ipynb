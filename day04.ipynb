{
 "cells": [
  {
   "cell_type": "code",
   "execution_count": 1,
   "id": "30b5be87",
   "metadata": {},
   "outputs": [],
   "source": [
    "def load(filename, data_type=None):\n",
    "    with open(filename, 'r') as f:\n",
    "        data = [line.rstrip('\\n') for line in f]\n",
    "    if data_type:\n",
    "        return [data_type(x) for x in data]\n",
    "    return data"
   ]
  },
  {
   "cell_type": "code",
   "execution_count": 16,
   "id": "e23f83b3",
   "metadata": {},
   "outputs": [],
   "source": [
    "data = load('day04.txt')"
   ]
  },
  {
   "cell_type": "code",
   "execution_count": 18,
   "id": "b0567d3f",
   "metadata": {},
   "outputs": [],
   "source": [
    "for i, d in enumerate(data):\n",
    "    data[i] = data[i].split(',')\n",
    "    r1 = data[i][0].split('-')\n",
    "    r2 = data[i][1].split('-')\n",
    "    data[i][0] = set(range(int(r1[0]), int(r1[1])+1))\n",
    "    data[i][1] = set(range(int(r2[0]), int(r2[1])+1))"
   ]
  },
  {
   "cell_type": "code",
   "execution_count": 33,
   "id": "fa882ab4",
   "metadata": {},
   "outputs": [],
   "source": [
    "s = 0\n",
    "for i, d in enumerate(data):\n",
    "    if max(len(data[i][0]), len(data[i][1])) == len(data[i][0].union(data[i][1])):\n",
    "        s += 1"
   ]
  },
  {
   "cell_type": "code",
   "execution_count": 34,
   "id": "e8373e8b",
   "metadata": {},
   "outputs": [
    {
     "data": {
      "text/plain": [
       "464"
      ]
     },
     "execution_count": 34,
     "metadata": {},
     "output_type": "execute_result"
    }
   ],
   "source": [
    "s"
   ]
  },
  {
   "cell_type": "code",
   "execution_count": 48,
   "id": "1a881d0f",
   "metadata": {},
   "outputs": [],
   "source": [
    "s = 0\n",
    "for i, d in enumerate(data):\n",
    "    if data[i][0].intersection(data[i][1]):\n",
    "        s += 1"
   ]
  },
  {
   "cell_type": "code",
   "execution_count": 49,
   "id": "568101db",
   "metadata": {},
   "outputs": [
    {
     "data": {
      "text/plain": [
       "770"
      ]
     },
     "execution_count": 49,
     "metadata": {},
     "output_type": "execute_result"
    }
   ],
   "source": [
    "s"
   ]
  },
  {
   "cell_type": "code",
   "execution_count": null,
   "id": "359fa3f3",
   "metadata": {},
   "outputs": [],
   "source": []
  }
 ],
 "metadata": {
  "kernelspec": {
   "display_name": "Python 3 (ipykernel)",
   "language": "python",
   "name": "python3"
  },
  "language_info": {
   "codemirror_mode": {
    "name": "ipython",
    "version": 3
   },
   "file_extension": ".py",
   "mimetype": "text/x-python",
   "name": "python",
   "nbconvert_exporter": "python",
   "pygments_lexer": "ipython3",
   "version": "3.8.10"
  }
 },
 "nbformat": 4,
 "nbformat_minor": 5
}
